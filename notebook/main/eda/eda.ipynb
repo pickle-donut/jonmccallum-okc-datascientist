{
 "cells": [
  {
   "cell_type": "markdown",
   "metadata": {},
   "source": [
    "# EDA"
   ]
  },
  {
   "cell_type": "markdown",
   "metadata": {},
   "source": [
    "## Modules"
   ]
  },
  {
   "cell_type": "code",
   "execution_count": 2,
   "metadata": {},
   "outputs": [
    {
     "name": "stdout",
     "output_type": "stream",
     "text": [
      "The rpy2.ipython extension is already loaded. To reload it, use:\n",
      "  %reload_ext rpy2.ipython\n"
     ]
    }
   ],
   "source": [
    "# Set Global Variables\n",
    "BASE_PATH='C:\\\\Users\\\\jonmc\\\\Documents\\\\git\\\\jonmccallum-okc-datascientist\\\\'\n",
    "\n",
    "# Import Modules\n",
    "import sys\n",
    "import warnings\n",
    "\n",
    "sys.path.insert(0, BASE_PATH + 'notebook\\\\resources\\\\')\n",
    "warnings.filterwarnings('ignore')\n",
    "warnings.filterwarnings('ignore', category=DeprecationWarning)\n",
    "warnings.filterwarnings('ignore', category=FutureWarning)\n",
    "\n",
    "from process import *\n",
    "import pandas_profiling as pf\n",
    "import dtale\n",
    "import seaborn as sns\n",
    "import matplotlib.pyplot as plt\n",
    "from sklearn.cluster import KMeans\n",
    "from sklearn.decomposition import PCA, FactorAnalysis\n",
    "import rpy2\n",
    "\n",
    "%load_ext rpy2.ipython\n",
    "\n",
    "# Analysis Configs\n",
    "\n",
    "#pd.set_option('display.max_rows', None)\n",
    "#pd.set_option('display.max_columns', None)\n",
    "#pd.set_option('display.width', None)\n",
    "#pd.set_option('display.max_colwidth', None)"
   ]
  },
  {
   "cell_type": "markdown",
   "metadata": {},
   "source": [
    "## EDA Functions"
   ]
  },
  {
   "cell_type": "code",
   "execution_count": 3,
   "metadata": {},
   "outputs": [],
   "source": [
    "# Functions\n",
    "def plotHeatCorrMatrix(DF, path):\n",
    "    corr_matrix = DF.corr(method='spearman')\n",
    "    corr_list = (corr_matrix.abs()\n",
    "                           .where(np.triu(np.ones(corr_matrix.shape), k=1)\n",
    "                           .astype(bool))\n",
    "                           .stack()\n",
    "                           .sort_values(ascending=False))\n",
    "\n",
    "    fig, ax = plt.subplots(figsize=(20,20))\n",
    "    ax = sns.heatmap(corr_matrix\n",
    "                     , mask=np.triu(np.ones_like(corr_matrix, dtype=bool))\n",
    "                     , vmin=-1\n",
    "                     , vmax=1\n",
    "                     , center=0\n",
    "                     , cmap = sns.diverging_palette(220,10, as_cmap=True)\n",
    "                     , linewidths=0.5\n",
    "                     , square=True\n",
    "                     , annot=False\n",
    "                     , fmt='g'\n",
    "         )\n",
    "\n",
    "    ax.set_xticklabels(ax.get_xticklabels(), rotation=45, horizontalalignment='right')\n",
    "\n",
    "    plt.title('Correlation Among Numeric Features')\n",
    "    plt.savefig(path)\n",
    "    \n",
    "    print(corr_list)\n",
    "    \n",
    "def makePandasProfileReport(DF, path):\n",
    "    pfReportProfile = pf.ProfileReport(DF, title='Regression Challenge')\n",
    "    pfReportProfile.to_file(BASE_PATH + path)"
   ]
  },
  {
   "cell_type": "markdown",
   "metadata": {},
   "source": [
    "## Characterize Data"
   ]
  },
  {
   "cell_type": "code",
   "execution_count": 4,
   "metadata": {},
   "outputs": [
    {
     "name": "stdout",
     "output_type": "stream",
     "text": [
      "C:\\Users\\jonmc\\Documents\\git\\jonmccallum-okc-datascientist\\notebook\\main\\eda\n",
      "\n",
      "   loc1 loc2  para1  dow  para2    para3  para4   price\n",
      "0    0   01      1  Mon    662   3000.0    3.8   73.49\n",
      "1    9   99      1  Thu    340   2760.0    9.2  300.00\n",
      "2    0   04      0  Mon     16   2700.0    3.0  130.00\n",
      "3    4   40      1  Mon     17  12320.0    6.4  365.00\n",
      "4    5   50      1  Thu    610   2117.0   10.8  357.50 \n",
      "\n",
      "     loc1 loc2  para1  dow  para2   para3  para4   price\n",
      "9995    9   98      3  Fri    386  5000.0   12.0  460.00\n",
      "9996    7   74      1  Thu    386  3250.0    8.0  325.00\n",
      "9997    0   06      0  Tue    190  8856.0    5.6  133.33\n",
      "9998    7   74      3  Fri    717  5000.0   13.6  820.00\n",
      "9999    7   75      1  Thu    622   336.0    4.8  375.00 \n",
      "\n",
      "\n",
      " loc1      string\n",
      "loc2      string\n",
      "para1      Int64\n",
      "dow       string\n",
      "para2      Int64\n",
      "para3    Float64\n",
      "para4    Float64\n",
      "price    Float64\n",
      "dtype: object\n",
      "\n",
      "Unique values in \"loc1\": <StringArray>\n",
      "['0', '9', '4', '5', '7', '8', '1', '3', '2', '6', 'S', 'T']\n",
      "Length: 12, dtype: string\n",
      "\n",
      "Unique values in \"loc2\": <StringArray>\n",
      "['01', '99', '04', '40', '50', '03', '09', '74', '89', '17',\n",
      " ...\n",
      " '61', '0B', 'S6', '43', '0T', 'TS', '0L', '11', '0C', '0N']\n",
      "Length: 107, dtype: string\n"
     ]
    }
   ],
   "source": [
    "# Initial Exploration\n",
    "print(getDir())\n",
    "\n",
    "regressData = readCSV(BASE_PATH + 'data\\\\raw\\\\challenge1.csv')\n",
    "regressData.dropna(how='any', inplace=True)\n",
    "regressData.reset_index(inplace=True, drop=True)\n",
    "\n",
    "\n",
    "print('\\n', regressData.head(5),'\\n')\n",
    "print(regressData.tail(5),'\\n')\n",
    "regressData.dtypes\n",
    "\n",
    "regressData = regressData.convert_dtypes()\n",
    "print('\\n', regressData.dtypes)\n",
    "\n",
    "print(f'\\nUnique values in \"loc1\": {regressData.loc1.unique()}')\n",
    "print(f'\\nUnique values in \"loc2\": {regressData.loc2.unique()}')"
   ]
  },
  {
   "cell_type": "markdown",
   "metadata": {},
   "source": [
    "## Convert Factors to Dummies"
   ]
  },
  {
   "cell_type": "code",
   "execution_count": 5,
   "metadata": {},
   "outputs": [],
   "source": [
    "# Make Dummy Columns and Plot Correlation Heatmap\n",
    "factorCols = (regressData.drop(\n",
    "                                regressData.columns[regressData.apply(lambda col: col.dtype) != 'string']\n",
    "                                , axis=1\n",
    "                         )\n",
    "                         .columns\n",
    "                         .tolist())\n",
    "\n",
    "for col in factorCols:\n",
    "    dummies = getDummies(regressData[col])\n",
    "    regressData = mergeDF(regressData, dummies)\n",
    "    \n",
    "features = regressData.drop(columns=factorCols, axis=1)"
   ]
  },
  {
   "cell_type": "markdown",
   "metadata": {},
   "source": [
    "## Create Heat Matrix of All Variables"
   ]
  },
  {
   "cell_type": "code",
   "execution_count": 6,
   "metadata": {},
   "outputs": [
    {
     "name": "stdout",
     "output_type": "stream",
     "text": [
      "loc1_T   loc2_TS    1.000000\n",
      "loc1_S   loc2_S6    1.000000\n",
      "para3    para4      0.705182\n",
      "para1    dow_Fri    0.641696\n",
      "para4    price      0.634470\n",
      "                      ...   \n",
      "loc2_27  dow_Tue    0.000073\n",
      "loc2_07  dow_Tue    0.000065\n",
      "loc2_70  dow_Tue    0.000050\n",
      "para1    loc2_93    0.000049\n",
      "loc2_62  dow_Tue    0.000017\n",
      "Length: 8515, dtype: float64\n"
     ]
    }
   ],
   "source": [
    "plotHeatCorrMatrix(features, BASE_PATH + 'notebook\\\\main\\\\eda\\\\graphics\\\\correlation_matrix_all.png')"
   ]
  },
  {
   "cell_type": "markdown",
   "metadata": {},
   "source": [
    "## Reduce Data - Multicollinearity"
   ]
  },
  {
   "cell_type": "code",
   "execution_count": 7,
   "metadata": {},
   "outputs": [
    {
     "name": "stdout",
     "output_type": "stream",
     "text": [
      "para3   para4      0.705182\n",
      "para1   dow_Fri    0.641696\n",
      "para4   price      0.634470\n",
      "para3   price      0.462563\n",
      "para2   price      0.450712\n",
      "                     ...   \n",
      "loc1_1  dow_Fri    0.000649\n",
      "loc1_3  dow_Tue    0.000613\n",
      "para1   loc1_2     0.000573\n",
      "loc1_9  dow_Thu    0.000349\n",
      "loc1_5  dow_Wed    0.000076\n",
      "Length: 190, dtype: float64\n"
     ]
    }
   ],
   "source": [
    "# Given correlation plot of natural grouping from loc2 to loc1, using only loc1 for parsimony sake\n",
    "features = features.loc[:,~ features.columns.str.startswith('loc2_')]\n",
    "\n",
    "# Dropping loc1_S, loc1_T, dow_Sat, and dow_Sun given the lack of variability\n",
    "features = features.drop(columns=['loc1_S', 'loc1_T', 'dow_Sat', 'dow_Sun'], axis=1)\n",
    "plotHeatCorrMatrix(features, BASE_PATH + 'notebook\\\\main\\\\eda\\\\graphics\\\\correlation_matrix_reduced.png')"
   ]
  },
  {
   "cell_type": "code",
   "execution_count": 8,
   "metadata": {},
   "outputs": [],
   "source": [
    "# Dropping dow_Fri and para3 given both are correlated with other regressors.\n",
    "# However, the regressors they correlate with correlate less so with price than their respective complements\n",
    "features = features.drop(columns=['dow_Fri', 'para3'], axis=1)"
   ]
  },
  {
   "cell_type": "markdown",
   "metadata": {},
   "source": [
    "## Subset Data \n",
    "Generate:\n",
    "- Target\n",
    "- Regressors\n",
    "- Combination of both"
   ]
  },
  {
   "cell_type": "code",
   "execution_count": 9,
   "metadata": {},
   "outputs": [],
   "source": [
    "target = 'price'\n",
    "\n",
    "combinedDF = features\n",
    "\n",
    "# Removing target from regressors\n",
    "regressors = features.drop(columns=[target], axis=1)"
   ]
  },
  {
   "cell_type": "markdown",
   "metadata": {},
   "source": [
    "## Pandas / D-Tale Profiling "
   ]
  },
  {
   "cell_type": "code",
   "execution_count": 10,
   "metadata": {},
   "outputs": [
    {
     "data": {
      "application/vnd.jupyter.widget-view+json": {
       "model_id": "4b67957ca6cd4d529fc48d0c7c466a62",
       "version_major": 2,
       "version_minor": 0
      },
      "text/plain": [
       "Summarize dataset:   0%|          | 0/5 [00:00<?, ?it/s]"
      ]
     },
     "metadata": {},
     "output_type": "display_data"
    },
    {
     "data": {
      "application/vnd.jupyter.widget-view+json": {
       "model_id": "c894953c3f364164a3c63625acffc67d",
       "version_major": 2,
       "version_minor": 0
      },
      "text/plain": [
       "Generate report structure:   0%|          | 0/1 [00:00<?, ?it/s]"
      ]
     },
     "metadata": {},
     "output_type": "display_data"
    },
    {
     "data": {
      "application/vnd.jupyter.widget-view+json": {
       "model_id": "a7fcca195df643b29aebd1851178acae",
       "version_major": 2,
       "version_minor": 0
      },
      "text/plain": [
       "Render HTML:   0%|          | 0/1 [00:00<?, ?it/s]"
      ]
     },
     "metadata": {},
     "output_type": "display_data"
    },
    {
     "data": {
      "application/vnd.jupyter.widget-view+json": {
       "model_id": "737b8d96b941407e90ea6a04c72d4dec",
       "version_major": 2,
       "version_minor": 0
      },
      "text/plain": [
       "Export report to file:   0%|          | 0/1 [00:00<?, ?it/s]"
      ]
     },
     "metadata": {},
     "output_type": "display_data"
    }
   ],
   "source": [
    "makePandasProfileReport(combinedDF, path='notebook\\\\main\\\\eda\\\\graphics\\\\profile_report.html')"
   ]
  },
  {
   "cell_type": "code",
   "execution_count": 11,
   "metadata": {},
   "outputs": [
    {
     "data": {
      "text/html": [
       "\n",
       "        <iframe\n",
       "            width=\"100%\"\n",
       "            height=\"475\"\n",
       "            src=\"http://DESKTOP-VPIS3V9:40000/dtale/iframe/1\"\n",
       "            frameborder=\"0\"\n",
       "            allowfullscreen\n",
       "        ></iframe>\n",
       "        "
      ],
      "text/plain": [
       "<IPython.lib.display.IFrame at 0x17481ee0ca0>"
      ]
     },
     "metadata": {},
     "output_type": "display_data"
    },
    {
     "data": {
      "text/plain": []
     },
     "execution_count": 11,
     "metadata": {},
     "output_type": "execute_result"
    }
   ],
   "source": [
    "dtaleUIReport = dtale.show(data=combinedDF, ignore_duplicates=False)\n",
    "dtaleUIReport"
   ]
  },
  {
   "cell_type": "markdown",
   "metadata": {},
   "source": [
    "## Sample Data"
   ]
  },
  {
   "cell_type": "code",
   "execution_count": 12,
   "metadata": {},
   "outputs": [],
   "source": [
    "combinedDFSampled = combinedDF.sample(n=500, random_state=RANDOM_STATE)"
   ]
  },
  {
   "cell_type": "code",
   "execution_count": 13,
   "metadata": {},
   "outputs": [],
   "source": [
    "writeCSV(combinedDFSampled, BASE_PATH + '\\\\data\\\\processed\\\\original_sample.csv')"
   ]
  },
  {
   "cell_type": "markdown",
   "metadata": {},
   "source": [
    "## Profile Samples"
   ]
  },
  {
   "cell_type": "code",
   "execution_count": 14,
   "metadata": {},
   "outputs": [
    {
     "data": {
      "application/vnd.jupyter.widget-view+json": {
       "model_id": "63072078ab8046f5a4f6fb55ca1c6118",
       "version_major": 2,
       "version_minor": 0
      },
      "text/plain": [
       "Summarize dataset:   0%|          | 0/5 [00:00<?, ?it/s]"
      ]
     },
     "metadata": {},
     "output_type": "display_data"
    },
    {
     "data": {
      "application/vnd.jupyter.widget-view+json": {
       "model_id": "d8e44b78cc7b4926a16f120549bd0fbb",
       "version_major": 2,
       "version_minor": 0
      },
      "text/plain": [
       "Generate report structure:   0%|          | 0/1 [00:00<?, ?it/s]"
      ]
     },
     "metadata": {},
     "output_type": "display_data"
    },
    {
     "data": {
      "application/vnd.jupyter.widget-view+json": {
       "model_id": "a7f4df36bf8f4c4084d42c877eb02a9e",
       "version_major": 2,
       "version_minor": 0
      },
      "text/plain": [
       "Render HTML:   0%|          | 0/1 [00:00<?, ?it/s]"
      ]
     },
     "metadata": {},
     "output_type": "display_data"
    },
    {
     "data": {
      "application/vnd.jupyter.widget-view+json": {
       "model_id": "6c6e49310969456a86e7489dd878846d",
       "version_major": 2,
       "version_minor": 0
      },
      "text/plain": [
       "Export report to file:   0%|          | 0/1 [00:00<?, ?it/s]"
      ]
     },
     "metadata": {},
     "output_type": "display_data"
    }
   ],
   "source": [
    "makePandasProfileReport(combinedDFSampled, path='notebook\\\\main\\\\eda\\\\graphics\\\\sample_profile_report.html')"
   ]
  },
  {
   "cell_type": "markdown",
   "metadata": {},
   "source": [
    "## Scale"
   ]
  },
  {
   "cell_type": "code",
   "execution_count": 15,
   "metadata": {},
   "outputs": [],
   "source": [
    "regressorsDFSampled = combinedDFSampled.drop(['price'], axis=1)\n",
    "scaleRegressorsDF = scaleDataFrame(regressorsDFSampled)\n",
    "scaleCombinedDF = scaleDataFrame(combinedDFSampled)\n"
   ]
  },
  {
   "cell_type": "markdown",
   "metadata": {},
   "source": [
    "## K-Means"
   ]
  },
  {
   "cell_type": "code",
   "execution_count": 16,
   "metadata": {},
   "outputs": [],
   "source": [
    "kPossible = [*range(1, len(scaleRegressorsDF.columns.tolist()) + 1)]\n",
    "inertias = []\n",
    "\n",
    "for k in kPossible:\n",
    "    model = KMeans(n_clusters=k)\n",
    "    \n",
    "    model.fit(scaleRegressorsDF)\n",
    "    \n",
    "    inertias.append(model.inertia_)\n",
    "\n",
    "fig, ax =plt.subplots(figsize=(20,20))\n",
    "ax = plt.plot(kPossible, inertias, \"-o\")\n",
    "plt.xlabel(\"Number of Clusters, k\")\n",
    "plt.ylabel(\"Inertia\")\n",
    "plt.xticks(kPossible)\n",
    "plt.title(\"Scree of Explanatory Variables\")\n",
    "plt.savefig(BASE_PATH + 'notebook\\\\main\\\\eda\\\\graphics\\\\kmeans-scree.png')"
   ]
  },
  {
   "cell_type": "code",
   "execution_count": 17,
   "metadata": {},
   "outputs": [],
   "source": [
    "# K-Means Analysis\n",
    "kMeanDF = scaleCombinedDF.copy(deep=False)\n",
    "\n",
    "kMeanModel = KMeans(n_clusters = 8)  # num clusters from scree\n",
    "kMeanModel.fit(scaleCombinedDF)\n",
    "kMeanDF['cluster_id'] = kMeanModel.predict(scaleCombinedDF)\n",
    "kLabels = kMeanDF['cluster_id']\n",
    "\n",
    "clusters_identified = np.unique(kLabels) + 1"
   ]
  },
  {
   "cell_type": "code",
   "execution_count": 18,
   "metadata": {},
   "outputs": [],
   "source": [
    "kMeanDF = mergeDF(kMeanDF, combinedDF).rename(columns={'para1_x':'para1_scale'\n",
    "                                                       , 'para2_x':'para2_scale'\n",
    "                                                       , 'para4_x':'para4_scale'\n",
    "                                                       , 'price_x':'price_scale'\n",
    "                                                       , 'loc1_0_x':'loc1_0_scale'\n",
    "                                                       , 'loc1_1_x':'loc1_1_scale'\n",
    "                                                       , 'loc1_2_x':'loc1_2_scale'\n",
    "                                                       , 'loc1_3_x':'loc1_3_scale'\n",
    "                                                       , 'loc1_4_x':'loc1_4_scale'\n",
    "                                                       , 'loc1_5_x':'loc1_5_scale'\n",
    "                                                       , 'loc1_6_x':'loc1_6_scale'\n",
    "                                                       , 'loc1_7_x':'loc1_7_scale'\n",
    "                                                       , 'loc1_8_x':'loc1_8_scale'\n",
    "                                                       , 'loc1_9_x':'loc1_9_scale'\n",
    "                                                       , 'dow_Mon_x':'dow_Mon_scale'\n",
    "                                                       , 'dow_Thu_x':'dow_Thu_scale'\n",
    "                                                       , 'dow_Tue_x':'dow_Tue_scale'\n",
    "                                                       , 'dow_Wed_x':'dow_Wed_scale'\n",
    "                                                       , 'cluster_id':'cluster_id'\n",
    "                                                       , 'para1':'para1'\n",
    "                                                       , 'para2':'para2'\n",
    "                                                       , 'para4':'para4'\n",
    "                                                       , 'price':'price'\n",
    "                                                       , 'loc1_0':'loc1_0'\n",
    "                                                       , 'loc1_1':'loc1_1'\n",
    "                                                       , 'loc1_2':'loc1_2'\n",
    "                                                       , 'loc1_3':'loc1_3'\n",
    "                                                       , 'loc1_4':'loc1_4'\n",
    "                                                       , 'loc1_5':'loc1_5'\n",
    "                                                       , 'loc1_6':'loc1_6'\n",
    "                                                       , 'loc1_7':'loc1_7'\n",
    "                                                       , 'loc1_8':'loc1_8'\n",
    "                                                       , 'loc1_9':'loc1_9'\n",
    "                                                       , 'dow_Mon':'dow_Mon'\n",
    "                                                       , 'dow_Thu':'dow_Thu'\n",
    "                                                       , 'dow_Tue':'dow_Tue'\n",
    "                                                       , 'dow_Wed':'dow_Wed'})\n",
    "\n",
    "writeCSV(kMeanDF, BASE_PATH + '\\\\data\\\\processed\\\\kmeans.csv')"
   ]
  },
  {
   "cell_type": "markdown",
   "metadata": {},
   "source": [
    "## PCA"
   ]
  },
  {
   "cell_type": "code",
   "execution_count": 19,
   "metadata": {},
   "outputs": [],
   "source": [
    "# PCA Analysis\n",
    "PCAModel = PCA()\n",
    "PCAModel.fit(scaleRegressorsDF)\n",
    "stxp = PCAModel.transform(scaleRegressorsDF)\n",
    "\n",
    "fig, ax = plt.subplots(figsize=(20,20))\n",
    "ax = plt.scatter(stxp[:,0], stxp[:,1], c=kLabels, alpha=0.5)\n",
    "plt.title('Biplot')\n",
    "plt.axis('equal')\n",
    "plt.xlabel('Principle Component 1')\n",
    "plt.ylabel('Principle Component 2')\n",
    "plt.legend(handles = ax.legend_elements(num=clusters_identified)[0], labels = ax.legend_elements(num=clusters_identified)[1], frameon=False)\n",
    "plt.savefig(BASE_PATH + 'notebook\\\\main\\\\eda\\\\graphics\\\\pca_biplot.png')"
   ]
  },
  {
   "cell_type": "code",
   "execution_count": 20,
   "metadata": {},
   "outputs": [],
   "source": [
    "PCAFeatures = range(PCAModel.n_components_)\n",
    "            \n",
    "fig, ax = plt.subplots(figsize=(20,20))\n",
    "ax = plt.bar(PCAFeatures, PCAModel.explained_variance_)\n",
    "plt.xticks(PCAFeatures)\n",
    "plt.ylabel('Explained Variance')\n",
    "plt.xlabel('PCA Components')\n",
    "plt.title('Scree Plot of PCA Eigenvalues')\n",
    "plt.savefig(BASE_PATH + 'notebook\\\\main\\\\eda\\\\graphics\\\\pca_explained_variance.png')"
   ]
  },
  {
   "cell_type": "markdown",
   "metadata": {},
   "source": [
    "## Factor Analysis"
   ]
  },
  {
   "cell_type": "code",
   "execution_count": 21,
   "metadata": {},
   "outputs": [
    {
     "name": "stdout",
     "output_type": "stream",
     "text": [
      "\n",
      "\n",
      " PCA :\n",
      "\n",
      "[[ 5.23851039e-01  1.58483190e-01  1.32844014e-01  8.38677341e-02\n",
      "   1.14901593e-01  1.49748709e-01  1.76045722e-01  9.72964396e-02\n",
      "   1.29279058e-02  1.70132991e-02]\n",
      " [ 5.16660898e-01  2.37448032e-01 -7.03128755e-02  1.54409922e-01\n",
      "   9.53910324e-02 -1.72417027e-01 -9.86580323e-02  8.34504716e-03\n",
      "  -4.31872999e-04  3.77710404e-02]\n",
      " [-5.85770843e-02  4.95392637e-01 -4.21393465e-02  2.16440840e-01\n",
      "  -3.36479789e-01 -8.50383292e-03 -1.01249564e-02 -2.37606174e-02\n",
      "   2.89952220e-04 -8.99891994e-02]\n",
      " [-2.89551339e-02  2.20655522e-01 -4.71292198e-02 -2.62299816e-02\n",
      "   1.78825119e-02  6.88715178e-01 -3.66662466e-01 -3.60668820e-01\n",
      "  -5.44396451e-02 -1.37458473e-01]\n",
      " [-4.29593658e-01  1.77849887e-01 -1.18258003e-01 -2.10042474e-02\n",
      "  -1.22968472e-01 -2.91979434e-01  3.73930226e-01 -1.36044669e-01\n",
      "  -5.32347226e-02 -1.88536620e-01]\n",
      " [ 6.13914181e-02 -1.27060224e-01 -1.63014913e-01 -1.98493751e-01\n",
      "  -3.58201829e-01  9.43706354e-02 -1.79460101e-01  6.81435451e-01\n",
      "   2.79214805e-02  1.15566597e-01]\n",
      " [-1.20738255e-01 -6.02136444e-02  2.57844430e-01  2.41922085e-01\n",
      "  -9.76317574e-02  2.13941053e-01  1.62402441e-01  6.56819787e-02\n",
      "   5.72464903e-01  3.01344085e-01]\n",
      " [ 2.76776284e-01 -1.67344003e-01 -1.53478983e-01 -6.01612645e-02\n",
      "   3.92221512e-02  5.67786640e-02  5.24823892e-01 -3.46720307e-01\n",
      "   3.56008967e-02  8.78701178e-02]\n",
      " [ 1.17966153e-01  1.54364601e-01  1.67048863e-01 -1.35788098e-02\n",
      "   1.81658322e-01  6.78426093e-02  3.44763945e-01  3.72185291e-01\n",
      "  -2.13538807e-01 -3.64192161e-01]\n",
      " [ 6.72018365e-02  1.06281138e-01 -1.12019043e-01  4.51848832e-01\n",
      "  -1.47909510e-01 -2.44065734e-01 -2.24560581e-01 -2.98928637e-02\n",
      "  -3.75955987e-01 -1.55162625e-04]\n",
      " [-2.11722243e-02 -3.41691160e-01  1.11567843e-02 -4.75147900e-02\n",
      "   4.81991309e-01 -1.43669845e-01 -2.90332022e-01  1.35430961e-02\n",
      "   7.29012259e-02 -4.00720514e-01]\n",
      " [ 1.88302269e-01  1.40699834e-01  3.13514958e-02 -9.44265411e-02\n",
      "  -7.69374689e-03 -4.77414145e-01 -2.86070708e-01 -1.84310621e-01\n",
      "   4.50215565e-01  9.75180492e-02]\n",
      " [-1.21566844e-02 -1.29475467e-01  2.19748776e-01 -1.65507536e-01\n",
      "   7.34894327e-02 -6.87474258e-02 -4.82355171e-02 -1.19302369e-01\n",
      "  -5.10789028e-01  6.24808030e-01]\n",
      " [-2.64138053e-01  2.89096163e-01 -4.72535268e-01  1.56055918e-02\n",
      "   4.72838846e-01  2.24101164e-02 -1.45673886e-02  1.71240216e-01\n",
      "   6.74712705e-02  2.96973915e-01]\n",
      " [-1.72191322e-01  1.32092931e-01  6.95655419e-01 -2.58549276e-02\n",
      "  -1.41130866e-03 -9.45415243e-02 -1.02650855e-01  5.32640533e-03\n",
      "  -4.78123868e-02 -7.57511829e-02]\n",
      " [ 1.43876653e-01 -2.59335680e-03 -1.53315290e-01 -5.89821066e-01\n",
      "  -3.64456007e-01 -5.15261811e-02 -4.17658318e-02 -1.69527258e-01\n",
      "  -1.55060196e-02 -1.58679579e-01]\n",
      " [ 1.62582057e-02 -5.05494854e-01 -1.49101280e-01  4.77371015e-01\n",
      "  -2.46171448e-01  2.71463070e-02 -2.54358659e-02 -8.08223719e-02\n",
      "  -3.65685185e-02 -1.07894446e-01]]\n",
      "\n",
      "\n",
      " Unrotated Factor Analysis :\n",
      "\n",
      "[[-1.52384034e-01  2.72945145e-02  6.43773742e-03  5.37077728e-02\n",
      "   3.11409690e-02  3.64587882e-01  8.89218153e-01  1.58068905e-01\n",
      "   2.92128401e-02 -8.34133425e-03]\n",
      " [-1.38244521e-01  2.80734282e-03  5.90556039e-02 -1.19656818e-02\n",
      "   1.64893096e-01  1.88133302e-01  2.38186067e-01  1.12386510e-01\n",
      "   5.26443149e-02 -2.88958017e-02]\n",
      " [ 1.02877222e-01  5.35146657e-02 -1.69022721e-01  1.07959551e-01\n",
      "   7.43446192e-02 -1.01845226e-01  4.53495744e-02  1.99495919e-02\n",
      "   4.21327439e-02  6.30108110e-02]\n",
      " [-3.09245633e-01  7.71793064e-01 -4.69291048e-01 -1.78005790e-01\n",
      "  -1.19707349e-01 -1.87796314e-01  4.58862877e-02 -8.54673625e-03\n",
      "   6.24347705e-04 -4.28376258e-04]\n",
      " [ 9.18425130e-01 -1.00204017e-01 -2.86750118e-01 -1.35713399e-01\n",
      "  -1.00568994e-01 -1.58420130e-01  7.67959979e-02 -7.73552298e-03\n",
      "   3.07226761e-03 -1.13272684e-03]\n",
      " [-4.56193984e-01 -7.34535053e-01 -4.11411827e-01 -1.67888718e-01\n",
      "  -1.15762913e-01 -1.85489418e-01  4.65838625e-02 -2.88745449e-04\n",
      "  -6.47160760e-04  1.57658919e-03]\n",
      " [-4.36733776e-02  1.88988818e-02  2.48465402e-01  7.93596104e-01\n",
      "  -4.65221484e-01 -2.79416884e-01  6.63530870e-02 -1.30722480e-04\n",
      "   9.14358914e-03 -9.35020543e-04]\n",
      " [-2.13258242e-02  6.93635607e-03  6.14828271e-02  6.12691771e-02\n",
      "   7.51924092e-02  4.33121122e-01 -7.64139124e-02 -4.00917842e-03\n",
      "   1.84242428e-02 -1.06294525e-01]\n",
      " [-1.96306736e-02  7.07428500e-03  5.81803132e-02  5.83864113e-02\n",
      "   7.11762763e-02  4.09321386e-01 -7.48898165e-02  5.11675723e-02\n",
      "  -2.61517267e-02  4.76501510e-02]\n",
      " [-3.04772702e-02  1.28013858e-02  1.41391254e-01  2.09115181e-01\n",
      "   8.73799730e-01 -3.92257624e-01  9.38577982e-02 -6.05009056e-03\n",
      "   7.79312490e-03  2.76342415e-03]\n",
      " [-6.71308851e-02  3.20251475e-02  7.46367593e-01 -5.76527382e-01\n",
      "  -2.06607547e-01 -2.26320039e-01  7.02215273e-02 -2.19116091e-03\n",
      "   4.53575800e-03  9.35092389e-04]\n",
      " [-1.76071094e-02  6.38010643e-03  5.72782753e-02  5.63157369e-02\n",
      "   6.96686948e-02  3.85719595e-01 -1.45965707e-01  1.03923144e-03\n",
      "   1.79750705e-02  2.11029137e-02]\n",
      " [-1.53615130e-02  5.70701102e-03  5.28056793e-02  5.15444967e-02\n",
      "   6.33012633e-02  3.46706831e-01 -1.57204758e-01 -2.09216695e-02\n",
      "  -3.94980636e-02  4.29602553e-02]\n",
      " [ 8.52418089e-02  3.54702941e-02 -5.26124424e-02 -5.42058509e-02\n",
      "  -4.54640105e-03 -1.67133397e-01 -3.18615507e-01  8.96409824e-01\n",
      "   9.70369148e-02 -1.76152467e-02]\n",
      " [ 4.06735990e-02  2.92822904e-02  1.75842530e-02  3.66936225e-02\n",
      "  -4.03359411e-02 -2.95445995e-02 -5.30093396e-02 -2.86767847e-01\n",
      "  -3.40481800e-01  7.67329023e-01]\n",
      " [-5.57432833e-02 -3.89564329e-02 -5.49950302e-02 -5.70704999e-02\n",
      "   2.40532859e-03  6.32958974e-02 -1.10900085e-01 -3.85423424e-01\n",
      "   8.53719173e-01 -5.48483934e-02]\n",
      " [-3.48609058e-02 -3.99126164e-02  5.24612979e-02  1.29310650e-02\n",
      "   3.37273820e-02 -9.12309419e-02 -8.08067550e-02 -3.23514528e-01\n",
      "  -4.67179528e-01 -6.92652008e-01]]\n",
      "\n",
      "\n",
      " Varimax Factor Analysis :\n",
      "\n",
      "[[-7.21092889e-02  8.39418063e-03 -2.52046185e-02 -7.00082066e-03\n",
      "  -1.33533850e-02  1.45363744e-05  9.78521908e-01 -1.02593386e-01\n",
      "  -5.63240208e-02  8.23871161e-03]\n",
      " [-1.62627628e-01 -5.10837900e-02 -1.36254076e-02 -1.12754287e-01\n",
      "   8.33798373e-02  2.90981146e-02  3.26333446e-01  3.42487837e-02\n",
      "   1.74162588e-02 -2.40533502e-02]\n",
      " [ 1.46353345e-01  9.53926410e-02 -1.53658387e-01  5.35779609e-02\n",
      "   1.19757240e-01 -6.86031727e-04  1.21137121e-02  3.42170799e-02\n",
      "   2.11247871e-02  6.82973653e-02]\n",
      " [-9.28252258e-02  9.80414334e-01 -7.98561693e-02 -7.24138150e-02\n",
      "  -6.82838262e-02  9.01870353e-02  7.34399330e-03  2.43390053e-02\n",
      "   4.17278400e-03  9.18410465e-03]\n",
      " [ 9.74598078e-01 -9.53824724e-02 -8.62927599e-02 -7.81689674e-02\n",
      "  -7.34051343e-02  9.58698265e-02 -7.67715699e-02  4.17435590e-02\n",
      "  -1.94166057e-02  1.67262964e-02]\n",
      " [-9.39040894e-02 -9.05656254e-02 -8.12541200e-02 -7.34699145e-02\n",
      "  -6.96221089e-02 -9.79771639e-01 -2.39664208e-04 -4.64748966e-03\n",
      "   2.93964957e-02 -1.93841205e-02]\n",
      " [-7.36170613e-02 -7.01004039e-02 -6.35841844e-02  9.84118655e-01\n",
      "  -5.44427917e-02  7.08015668e-02 -1.00511684e-02 -1.67072957e-02\n",
      "  -3.89840256e-02  6.60379979e-03]\n",
      " [-1.99967588e-01 -1.97328464e-01 -1.75264885e-01 -1.57882696e-01\n",
      "  -1.50978390e-01  2.04305286e-01  8.21367867e-02 -2.98145736e-02\n",
      "   4.79953380e-02 -9.86588795e-02]\n",
      " [-1.95143874e-01 -1.89689496e-01 -1.66481862e-01 -1.53018186e-01\n",
      "  -1.42106342e-01  1.89893230e-01  7.98529255e-02  8.69768848e-03\n",
      "  -2.05516363e-02  5.19448970e-02]\n",
      " [-6.90605028e-02 -6.56380075e-02 -5.94589449e-02 -5.41836912e-02\n",
      "   9.84923611e-01  6.65577023e-02 -1.02592534e-02  1.65060567e-03\n",
      "  -2.25346948e-02 -2.12244975e-02]\n",
      " [-8.23826905e-02 -7.79716893e-02  9.82859720e-01 -6.41831971e-02\n",
      "  -6.04991315e-02  7.92464015e-02 -2.47840828e-02  1.76943797e-04\n",
      "  -1.41169785e-02 -9.61297422e-03]\n",
      " [-1.96969160e-01 -1.87159835e-01 -1.66218024e-01 -1.50325355e-01\n",
      "  -1.40635417e-01  1.90407500e-01  1.39920454e-03 -6.91061881e-03\n",
      "   4.06270310e-02  2.69520293e-02]\n",
      " [-1.83898285e-01 -1.71360551e-01 -1.54219934e-01 -1.40989955e-01\n",
      "  -1.30620268e-01  1.73721467e-01 -3.43431523e-02 -3.48011974e-02\n",
      "  -1.07661783e-02  4.34852740e-02]\n",
      " [ 4.33907869e-02  2.65978931e-02  1.74697762e-03 -1.60966428e-02\n",
      "   4.02250222e-03  3.97203769e-03 -1.23568228e-01  9.60160324e-01\n",
      "  -1.30062050e-01 -5.97590194e-04]\n",
      " [ 1.28569123e-02  1.07829275e-02  1.16628715e-03  2.79002182e-02\n",
      "  -8.87150630e-03  1.95277938e-02 -1.86814052e-01 -3.56445303e-01\n",
      "  -3.00978725e-01  7.36459394e-01]\n",
      " [-2.23815924e-02  4.33087720e-03 -1.55506673e-02 -4.38221802e-02\n",
      "  -2.48930860e-02 -3.30808143e-02 -7.15005006e-02 -1.28517197e-01\n",
      "   9.38929147e-01  7.39989731e-04]\n",
      " [-2.56218704e-02 -1.05403572e-02  2.49845980e-02  1.25466413e-02\n",
      "   4.26232168e-02 -2.63371891e-02 -2.12547225e-01 -3.70968902e-01\n",
      "  -3.13916814e-01 -7.34170000e-01]]\n",
      "\n",
      "\n",
      " Quartimax Factor Analysis :\n",
      "\n",
      "[[-7.21125751e-02  8.44450732e-03 -2.50681892e-02 -6.82199215e-03\n",
      "  -1.33127243e-02 -3.15045305e-05  9.78521282e-01 -1.02652147e-01\n",
      "  -5.64021672e-02  7.57127484e-03]\n",
      " [-1.62652704e-01 -5.10776970e-02 -1.35922267e-02 -1.12678718e-01\n",
      "   8.33872069e-02  2.90801545e-02  3.26332208e-01  3.41655021e-02\n",
      "   1.73301405e-02 -2.44598134e-02]\n",
      " [ 1.46373291e-01  9.53911610e-02 -1.53651775e-01  5.35779535e-02\n",
      "   1.19754796e-01 -6.83722770e-04  1.21954046e-02  3.43918945e-02\n",
      "   2.12618894e-02  6.81307862e-02]\n",
      " [-9.28158087e-02  9.80412268e-01 -7.98466517e-02 -7.24153658e-02\n",
      "  -6.82897722e-02  9.01857182e-02  7.35160483e-03  2.44961436e-02\n",
      "   4.18833460e-03  9.10786108e-03]\n",
      " [ 9.74607968e-01 -9.53948864e-02 -8.62330527e-02 -7.82148159e-02\n",
      "  -7.33957058e-02  9.58561734e-02 -7.66876045e-02  4.18915672e-02\n",
      "  -1.92391435e-02  1.65113098e-02]\n",
      " [-9.39272552e-02 -9.05663926e-02 -8.12544441e-02 -7.34665920e-02\n",
      "  -6.96141311e-02 -9.79774761e-01 -2.81730024e-04 -4.72520162e-03\n",
      "   2.92851356e-02 -1.92993926e-02]\n",
      " [-7.35629156e-02 -7.00862473e-02 -6.35944040e-02  9.84117616e-01\n",
      "  -5.44425407e-02  7.08056195e-02 -1.02257235e-02 -1.68554684e-02\n",
      "  -3.89847200e-02  6.72274936e-03]\n",
      " [-1.99983634e-01 -1.97321019e-01 -1.75265419e-01 -1.57861755e-01\n",
      "  -1.50983105e-01  2.04289003e-01  8.21109120e-02 -3.00692622e-02\n",
      "   4.77852395e-02 -9.87464991e-02]\n",
      " [-1.95120887e-01 -1.89684822e-01 -1.66486553e-01 -1.52991732e-01\n",
      "  -1.42113772e-01  1.89897070e-01  7.99765052e-02  8.78052767e-03\n",
      "  -2.04923759e-02  5.18961652e-02]\n",
      " [-6.90765352e-02 -6.56375110e-02 -5.94851806e-02 -5.41856450e-02\n",
      "   9.84920102e-01  6.65696967e-02 -1.02974128e-02  1.64321408e-03\n",
      "  -2.25749714e-02 -2.11598064e-02]\n",
      " [-8.24535265e-02 -7.79872871e-02  9.82851296e-01 -6.41792933e-02\n",
      "  -6.04817058e-02  7.92551019e-02 -2.49152872e-02  1.41508873e-04\n",
      "  -1.40921757e-02 -9.50158409e-03]\n",
      " [-1.96956686e-01 -1.87156680e-01 -1.66235828e-01 -1.50316574e-01\n",
      "  -1.40645261e-01  1.90409555e-01  1.49966172e-03 -6.88181886e-03\n",
      "   4.06465582e-02  2.69108739e-02]\n",
      " [-1.83871622e-01 -1.71354138e-01 -1.54240320e-01 -1.40993049e-01\n",
      "  -1.30629455e-01  1.73730790e-01 -3.42365408e-02 -3.47266771e-02\n",
      "  -1.07152784e-02  4.36320820e-02]\n",
      " [ 4.33065533e-02  2.64592247e-02  1.74506451e-03 -1.59785035e-02\n",
      "   3.97669173e-03  3.96758508e-03 -1.23502997e-01  9.60188150e-01\n",
      "  -1.29970995e-01 -2.36084850e-03]\n",
      " [ 1.31131145e-02  1.08404047e-02  1.11525342e-03  2.78115331e-02\n",
      "  -8.86973727e-03  1.96433336e-02 -1.86108807e-01 -3.54788619e-01\n",
      "  -2.99690285e-01  7.37956857e-01]\n",
      " [-2.25001205e-02  4.33669098e-03 -1.56079855e-02 -4.38533183e-02\n",
      "  -2.48959631e-02 -3.31303646e-02 -7.14316102e-02 -1.28584420e-01\n",
      "   9.38918228e-01 -5.52477186e-04]\n",
      " [-2.57003217e-02 -1.05030665e-02  2.50022965e-02  1.24472260e-02\n",
      "   4.26422138e-02 -2.63795855e-02 -2.13363043e-01 -3.72543147e-01\n",
      "  -3.15228647e-01 -7.32568648e-01]]\n"
     ]
    }
   ],
   "source": [
    "# Factor Analysis\n",
    "n_comps = 10 # Adjust based on +/- 1/2 eigenvalues\n",
    "\n",
    "regressorList = regressors.columns.tolist()\n",
    "\n",
    "methods = [\n",
    "            ('PCA', PCA()),\n",
    "            ('Unrotated Factor Analysis', FactorAnalysis(n_components=n_comps)),\n",
    "            ('Varimax Factor Analysis', FactorAnalysis(n_components=n_comps, rotation='varimax')),\n",
    "            ('Quartimax Factor Analysis', FactorAnalysis(n_components=n_comps, rotation='quartimax'))\n",
    "          ]\n",
    "\n",
    "fig, axes = plt.subplots(ncols=len(methods), figsize=(40,20))\n",
    "\n",
    "for ax, (method, fa) in zip(axes, methods):\n",
    "    fa.set_params(n_components=n_comps)\n",
    "    fa.fit(scaleRegressorsDF)\n",
    "    \n",
    "    components = fa.components_.T\n",
    "    print(\"\\n\\n %s :\\n\" % method)\n",
    "    print(components)\n",
    "    \n",
    "    vmax = np.abs(components).max()\n",
    "    ax.imshow(components, cmap='RdBu_r', vmax=vmax, vmin=-vmax)\n",
    "    ax.set_yticks(np.arange(len(regressorList)))\n",
    "    if ax.is_first_col():\n",
    "         ax.set_yticklabels(regressorList)\n",
    "    else:\n",
    "        ax.set_yticklabels([])\n",
    "    ax.set_title(str(method))\n",
    "    ax.set_xticks([*range(n_comps)])\n",
    "    ax.set_xticklabels([f'Comp. {i +1}' for i in range(n_comps)])\n",
    "\n",
    "plt.savefig(BASE_PATH + 'notebook\\\\main\\\\eda\\\\graphics\\\\factor_analysis.png')"
   ]
  },
  {
   "cell_type": "markdown",
   "metadata": {},
   "source": [
    "## Write Prepped Dataset"
   ]
  },
  {
   "cell_type": "code",
   "execution_count": 22,
   "metadata": {},
   "outputs": [],
   "source": [
    "writeCSV(\n",
    "    scaleCombinedDF[['price'\n",
    "                     , 'para1'\n",
    "                     , 'loc1_0'\n",
    "                     , 'loc1_1'\n",
    "                     , 'loc1_2'\n",
    "                     , 'loc1_3'\n",
    "                     , 'loc1_6'\n",
    "                     , 'loc1_7'\n",
    "                     , 'dow_Mon'\n",
    "                     , 'dow_Thu'\n",
    "                     , 'dow_Tue']]\n",
    "    , BASE_PATH + '\\\\data\\\\processed\\\\challenge1_processed_scaled.csv')"
   ]
  },
  {
   "cell_type": "code",
   "execution_count": 23,
   "metadata": {},
   "outputs": [],
   "source": [
    "writeCSV(\n",
    "    combinedDFSampled[['price'\n",
    "                     , 'para1'\n",
    "                     , 'loc1_0'\n",
    "                     , 'loc1_1'\n",
    "                     , 'loc1_2'\n",
    "                     , 'loc1_3'\n",
    "                     , 'loc1_6'\n",
    "                     , 'loc1_7'\n",
    "                     , 'dow_Mon'\n",
    "                     , 'dow_Thu'\n",
    "                     , 'dow_Tue']]\n",
    "    , BASE_PATH + '\\\\data\\\\processed\\\\challenge1_processed.csv')"
   ]
  },
  {
   "cell_type": "markdown",
   "metadata": {},
   "source": [
    "## GAM"
   ]
  },
  {
   "cell_type": "code",
   "execution_count": null,
   "metadata": {},
   "outputs": [],
   "source": [
    "combinedDF = combinedDF[['price', 'para1', 'para2', 'para3', 'para4', 'loc1_0', 'loc1_1',\n",
    "                         'loc1_2', 'loc1_3', 'loc1_4', 'loc1_5', 'loc1_6', 'loc1_7', 'loc1_8',\n",
    "                         'loc1_9', 'dow_Fri', 'dow_Mon', 'dow_Thu', 'dow_Tue', 'dow_Wed']]"
   ]
  },
  {
   "cell_type": "code",
   "execution_count": null,
   "metadata": {},
   "outputs": [],
   "source": [
    "#%%R -i combinedDF -w 5 -h 5 --units in -r 200\n",
    "#\n",
    "#install.packages(c('gam', 'glmnet', 'leaps'), repos='http://cran.us.r-project.org', quiet=TRUE)\n",
    "#\n",
    "#library(gam)\n",
    "#library(glmnet)\n",
    "#library(leaps)\n",
    "#\n",
    "#r_combinedDF <- combinedDF\n",
    "#colnames(r_combinedDF)[1] <- make.names(colnames(combinedDF)[1])\n",
    "#target <- colnames(combinedDF)[0]\n",
    "#r_combinedDF <- na.omit(r_combinedDF)\n",
    "#\n",
    "#exp <- paste('gam( ', target, '~', sep='', collapse=NULL)\n",
    "#\n",
    "## Set degrees on polynomial\n",
    "#dfr <- 3\n",
    "#\n",
    "#for (name in names(r_combinedDF[-c(1,1)]))\n",
    "#{\n",
    "#    exp <- paste(exp, 's(', name, ',', dfr')')\n",
    "#    if(name != names(r_combinedDF)[length(r_combinedDF)]) {exp <- paste(exp, ' + ')}\n",
    "#}\n",
    "#\n",
    "#exp <- paste(exp, ', data=r_combinedDF')\n",
    "#gamFit <- eval(parse(text=exp))\n",
    "#\n",
    "#par(mfrow=c(3,3))\n",
    "#plot(gamFit, se=TRUE, col='blue')\n",
    "#summary(gamFit)\n",
    "#\n",
    "#gamPred <- predict.gam(gamFit)"
   ]
  }
 ],
 "metadata": {
  "kernelspec": {
   "display_name": "Python 3",
   "language": "python",
   "name": "python3"
  },
  "language_info": {
   "codemirror_mode": {
    "name": "ipython",
    "version": 3
   },
   "file_extension": ".py",
   "mimetype": "text/x-python",
   "name": "python",
   "nbconvert_exporter": "python",
   "pygments_lexer": "ipython3",
   "version": "3.8.8"
  }
 },
 "nbformat": 4,
 "nbformat_minor": 4
}
