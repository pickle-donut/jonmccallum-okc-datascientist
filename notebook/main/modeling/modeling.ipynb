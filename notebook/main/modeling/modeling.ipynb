{
 "cells": [
  {
   "cell_type": "markdown",
   "id": "a05c4f73",
   "metadata": {},
   "source": [
    "# Modeling"
   ]
  },
  {
   "cell_type": "markdown",
   "id": "395be74f",
   "metadata": {},
   "source": [
    "## Modules"
   ]
  },
  {
   "cell_type": "code",
   "execution_count": 1,
   "id": "c98740f9",
   "metadata": {},
   "outputs": [],
   "source": [
    "# Set Global Variables\n",
    "BASE_PATH='C:\\\\Users\\\\jonmc\\\\Documents\\\\git\\\\jonmccallum-okc-datascientist\\\\'\n",
    "\n",
    "# Import Modules\n",
    "import sys\n",
    "import warnings\n",
    "import datetime\n",
    "from math import sqrt\n",
    "from datetime import datetime\n",
    "\n",
    "sys.path.insert(0, BASE_PATH + 'notebook\\\\resources\\\\')\n",
    "warnings.filterwarnings('ignore')\n",
    "warnings.filterwarnings('ignore', category=DeprecationWarning)\n",
    "warnings.filterwarnings('ignore', category=FutureWarning)\n",
    "\n",
    "from process import *\n",
    "from models import *\n",
    "\n",
    "from sklearn.model_selection import train_test_split, RandomizedSearchCV\n",
    "from sklearn import pipeline\n",
    "from sklearn.pipeline import make_pipeline\n",
    "from sklearn.metrics import mean_squared_error, r2_score\n",
    "\n",
    "from joblib import dump\n",
    "\n",
    "# Analysis Configs\n",
    "\n",
    "#pd.set_option('display.max_rows', None)\n",
    "#pd.set_option('display.max_columns', None)\n",
    "#pd.set_option('display.width', None)\n",
    "#pd.set_option('display.max_colwidth', None)"
   ]
  },
  {
   "cell_type": "code",
   "execution_count": 2,
   "id": "975aaa65",
   "metadata": {},
   "outputs": [],
   "source": [
    "today = datetime.today().strftime('%Y-%m-%d_%I-%M_%p')"
   ]
  },
  {
   "cell_type": "markdown",
   "id": "34216c5a",
   "metadata": {},
   "source": [
    "## Functions"
   ]
  },
  {
   "cell_type": "code",
   "execution_count": 3,
   "id": "dd4f89d0",
   "metadata": {},
   "outputs": [],
   "source": [
    "# Function for saving off pipline object (model)\n",
    "def saveModel(model, prefix):\n",
    "    \n",
    "    modelPath = BASE_PATH + '\\\\model\\\\'\n",
    "    dump(model, modelPath + prefix + '.pipe')\n",
    "\n",
    "    \n",
    "# Function for logging experiments    \n",
    "def writeExperiment(date, summary):\n",
    "    \n",
    "    print('Logging experiment...')\n",
    "    text_file = open(BASE_PATH + f'notebook\\\\main\\\\modeling\\\\experiment_logs\\\\{today}_experiment.txt', 'a')\n",
    "    n = text_file.write(summary)\n",
    "    text_file.close()\n",
    "    print('DONE!!!\\n')\n",
    "\n",
    "    \n",
    "def mean_absolute_percentage_error(y_true, y_pred):\n",
    "    \n",
    "    y_true, y_pred = np.array(y_true), np.array(y_pred)\n",
    "    \n",
    "    return np.mean(np.abs((y_true - y_pred) / y_true)) * 100\n",
    "    \n",
    "    \n",
    "# Function for grid searching over a list of models with different parameters\n",
    "def hypertuneGridSearch(scaler, experimentData, modelDefinitions, numIterations, crossValidation, scoringMethod, RANDOM_STATE):\n",
    "    \n",
    "    bestModelsList = []\n",
    "    \n",
    "    for item in range(len(modelDefinitions)):\n",
    "        \n",
    "        modelDef = modelDefinitions[item]\n",
    "        \n",
    "        print(f'Beginning grid search for {modelDef[0]} model definition...')\n",
    "        \n",
    "        models = RandomizedSearchCV(estimator=modelDef[1]['estimator']\n",
    "                                    , param_distributions=modelDef[1]['modelParams']\n",
    "                                    , n_iter=numIterations\n",
    "                                    , cv=crossValidation\n",
    "                                    , scoring=scoringMethod\n",
    "                                    , verbose=2\n",
    "                                    , random_state=RANDOM_STATE\n",
    "                                    , n_jobs=-1\n",
    "        \n",
    "                 )\n",
    "        \n",
    "        models.fit(experimentData['feature_train'], experimentData['target_train'])\n",
    "        \n",
    "        modelBest = models.best_estimator_\n",
    "        modelBestParams = models.best_params_\n",
    "        modelBestScore = models.best_score_\n",
    "        \n",
    "        bestModelsList.append(modelBest)\n",
    "                \n",
    "        trainMAPE = mean_absolute_percentage_error(experimentData['target_train'], modelBest.predict(experimentData['feature_train']))\n",
    "        testMAPE = mean_absolute_percentage_error(experimentData['target_test'], modelBest.predict(experimentData['feature_test']))\n",
    "        rSquared = r2_score(experimentData['target_test'], modelBest.predict(experimentData['feature_test']))\n",
    "        \n",
    "        experimentResults = ('-- MODEL RESULTS -- \\n'\n",
    "                             f'Tuned Model: {modelDef[0]}\\n'\n",
    "                             f'Best Parameters: {modelBestParams}\\n'\n",
    "                             f'Best Cross Validation Score: {modelBestScore}\\n'\n",
    "                             f'MAPE on Train Set: {trainMAPE}\\n'\n",
    "                             f'MAPE on Test Set: {testMAPE}\\n'\n",
    "                             f'R2 on Test Set: {rSquared}\\n\\n')\n",
    "        \n",
    "        print(experimentResults)\n",
    "        \n",
    "        # Log experiment results\n",
    "        writeExperiment(today, experimentResults)\n",
    "        \n",
    "        modelPipe = make_pipeline(scaler, modelBest)\n",
    "        modelPipe.fit(experimentData['original_features'], experimentData['original_target'])\n",
    "        saveModel(modelPipe, modelPipe.steps[1][0])\n",
    "        \n",
    "        return bestModelsList\n",
    "        \n",
    "        \n",
    "        "
   ]
  },
  {
   "cell_type": "markdown",
   "id": "dbdbe293",
   "metadata": {},
   "source": [
    "## Read Prepped Sample"
   ]
  },
  {
   "cell_type": "code",
   "execution_count": 4,
   "id": "aa0cee1e",
   "metadata": {},
   "outputs": [
    {
     "name": "stdout",
     "output_type": "stream",
     "text": [
      "C:\\Users\\jonmc\\Documents\\git\\jonmccallum-okc-datascientist\\notebook\\main\\modeling\n"
     ]
    }
   ],
   "source": [
    "print(getDir())\n",
    "\n",
    "regressData = readCSV(BASE_PATH + 'data\\\\processed\\\\challenge1_processed.csv')"
   ]
  },
  {
   "cell_type": "markdown",
   "id": "141dcae0",
   "metadata": {},
   "source": [
    "## Split Data For Training / Testing & Target / Features"
   ]
  },
  {
   "cell_type": "code",
   "execution_count": 5,
   "id": "21da13c9",
   "metadata": {},
   "outputs": [],
   "source": [
    "features = regressData.drop(columns=['price'], axis=1)\n",
    "\n",
    "target = regressData[['price']]"
   ]
  },
  {
   "cell_type": "code",
   "execution_count": 6,
   "id": "bf98c51f",
   "metadata": {},
   "outputs": [],
   "source": [
    "# Set holdout set\n",
    "SPLIT_SIZE = 0.25\n",
    "\n",
    "X_train, X_test, y_train, y_test = train_test_split(\n",
    "                                                     features\n",
    "                                                     , target\n",
    "                                                     , random_state=RANDOM_STATE\n",
    "                                                     , test_size=SPLIT_SIZE\n",
    "\n",
    "                                    )\n",
    "\n",
    "\n",
    "X_train_chkpt = X_train\n",
    "X_test_chkpt = X_test\n",
    "\n",
    "experimentData = {'original_features': features\n",
    "                  , 'original_target': target\n",
    "                  , 'feature_train': scaleDataFrame(X_train)\n",
    "                  , 'feature_test': scaleDataFrame(X_test)\n",
    "                  , 'target_train': y_train.to_numpy()\n",
    "                  , 'target_test': y_test.to_numpy()}\n",
    "\n",
    "\n",
    "scaler = StandardScaler(with_mean=True, with_std=True)"
   ]
  },
  {
   "cell_type": "markdown",
   "id": "ac77f22e",
   "metadata": {},
   "source": [
    "## Create Regression Model\n",
    "- Using this as a guiding light for grid search models."
   ]
  },
  {
   "cell_type": "code",
   "execution_count": 7,
   "id": "ace103b0",
   "metadata": {},
   "outputs": [
    {
     "name": "stdout",
     "output_type": "stream",
     "text": [
      "-- MODEL RESULTS -- \n",
      "Tuned Model: linear-regression\n",
      "MAPE on Train Set: 60.736924754969735\n",
      "MAPE on Test Set: 62.84170578802427\n",
      "R2 on Test Set: 0.08940417634034514\n",
      "\n",
      "\n"
     ]
    }
   ],
   "source": [
    "from sklearn.linear_model import LinearRegression\n",
    "\n",
    "reg = LinearRegression()\n",
    "reg.fit(experimentData['feature_train'], experimentData['target_train'])\n",
    "\n",
    "pred = reg.predict(experimentData['feature_test'])\n",
    "predDF = pd.DataFrame(pred, columns=[\"Prediction\"])\n",
    "\n",
    "predDF = pd.concat([predDF , y_test])\n",
    "predDF.head(5)\n",
    "\n",
    "\n",
    "trainMAPE = mean_absolute_percentage_error(experimentData['target_train']\n",
    "                                           , reg.predict(experimentData['feature_train']))\n",
    "\n",
    "testMAPE = mean_absolute_percentage_error(experimentData['target_test']\n",
    "                                          , reg.predict(experimentData['feature_test']))\n",
    "\n",
    "rSquared = r2_score(experimentData['target_test']\n",
    "                    , reg.predict(experimentData['feature_test']))\n",
    "\n",
    "experimentResults = ('-- MODEL RESULTS -- \\n'\n",
    "                     f'Tuned Model: linear-regression\\n'\n",
    "                     f'MAPE on Train Set: {trainMAPE}\\n'\n",
    "                     f'MAPE on Test Set: {testMAPE}\\n'\n",
    "                     f'R2 on Test Set: {rSquared}\\n\\n')\n",
    "\n",
    "print(experimentResults)"
   ]
  },
  {
   "cell_type": "markdown",
   "id": "51ee34af",
   "metadata": {},
   "source": [
    "## Run Tuning"
   ]
  },
  {
   "cell_type": "code",
   "execution_count": 11,
   "id": "8cc13198",
   "metadata": {},
   "outputs": [
    {
     "name": "stdout",
     "output_type": "stream",
     "text": [
      "Beginning grid search for elastic_net model definition...\n",
      "Fitting 3 folds for each of 500 candidates, totalling 1500 fits\n"
     ]
    },
    {
     "name": "stderr",
     "output_type": "stream",
     "text": [
      "[Parallel(n_jobs=-1)]: Using backend LokyBackend with 4 concurrent workers.\n",
      "[Parallel(n_jobs=-1)]: Done  34 tasks      | elapsed:    4.0s\n"
     ]
    },
    {
     "name": "stdout",
     "output_type": "stream",
     "text": [
      "-- MODEL RESULTS -- \n",
      "Tuned Model: elastic_net\n",
      "Best Parameters: {'max_iter': 5000, 'l1_ratio': 0.001, 'alpha': 0.5}\n",
      "Best Cross Validation Score: -278.58345853372293\n",
      "MAPE on Train Set: 63.14739905210415\n",
      "MAPE on Test Set: 64.29219490715899\n",
      "R2 on Test Set: 0.05944764739444541\n",
      "\n",
      "\n",
      "Logging experiment...\n",
      "DONE!!!\n",
      "\n"
     ]
    },
    {
     "name": "stderr",
     "output_type": "stream",
     "text": [
      "[Parallel(n_jobs=-1)]: Done 1500 out of 1500 | elapsed:    8.5s finished\n"
     ]
    }
   ],
   "source": [
    "bestModels = hypertuneGridSearch(scaler\n",
    "                                 , experimentData\n",
    "                                 , modelDefinitions\n",
    "                                 , 500\n",
    "                                 , 3\n",
    "                                 , 'neg_root_mean_squared_error'\n",
    "                                 , RANDOM_STATE)"
   ]
  }
 ],
 "metadata": {
  "kernelspec": {
   "display_name": "Python 3",
   "language": "python",
   "name": "python3"
  },
  "language_info": {
   "codemirror_mode": {
    "name": "ipython",
    "version": 3
   },
   "file_extension": ".py",
   "mimetype": "text/x-python",
   "name": "python",
   "nbconvert_exporter": "python",
   "pygments_lexer": "ipython3",
   "version": "3.8.8"
  }
 },
 "nbformat": 4,
 "nbformat_minor": 5
}
